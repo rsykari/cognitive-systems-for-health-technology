{
 "cells": [
  {
   "cell_type": "markdown",
   "metadata": {},
   "source": [
    "## Case 1\n",
    "\n",
    "Riku Sykäri\n",
    "Last edited: 04.02.2018\n",
    "Cognitive Systems for Health Technology Applications\n",
    "Helsinki Metropolia University of Applied Sciences\n",
    "http://www.metropolia.fi/en/"
   ]
  },
  {
   "cell_type": "markdown",
   "metadata": {},
   "source": [
    "## 1. Objectives\n",
    "\n",
    "\n"
   ]
  },
  {
   "cell_type": "markdown",
   "metadata": {},
   "source": [
    "The objective in this case was to read data from a public dataset pertaining to heart disease diagnosis and to train a dense classifier network model using approx. 300 labeled training and test examples through supervised learning. The network in this case is a binary classifier, separating subjects to either 'healthy' or 'sick' categories."
   ]
  },
  {
   "cell_type": "markdown",
   "metadata": {},
   "source": [
    "## 2. Required libraries"
   ]
  },
  {
   "cell_type": "code",
   "execution_count": 144,
   "metadata": {},
   "outputs": [
    {
     "name": "stdout",
     "output_type": "stream",
     "text": [
      "numpy: 1.12.1\n",
      "pandas: 0.20.3\n",
      "keras: 2.1.3\n",
      "sklearn: 0.19.1\n"
     ]
    }
   ],
   "source": [
    "# Import libraries\n",
    "import numpy as np\n",
    "import matplotlib.pyplot as plt\n",
    "import pandas as pd\n",
    "\n",
    "import sklearn as sk\n",
    "from sklearn import preprocessing\n",
    "from sklearn.model_selection import train_test_split\n",
    "\n",
    "import keras\n",
    "from keras import models\n",
    "from keras import layers\n",
    "from keras.models import Sequential\n",
    "from keras.layers import Dense, Activation, Dropout\n",
    "\n",
    "%matplotlib inline\n",
    "\n",
    "# Versions used\n",
    "print('numpy:', np.__version__)\n",
    "print('pandas:', pd.__version__)\n",
    "print('keras:', keras.__version__)\n",
    "print('sklearn:', sk.__version__)"
   ]
  },
  {
   "cell_type": "markdown",
   "metadata": {},
   "source": [
    "## 3. Data importation and preprocessing"
   ]
  },
  {
   "cell_type": "code",
   "execution_count": 145,
   "metadata": {},
   "outputs": [],
   "source": [
    "# Import the data\n",
    "filename = 'http://archive.ics.uci.edu/ml/machine-learning-databases/heart-disease/processed.cleveland.data'\n",
    "\n",
    "colnames = ['age', 'sex', 'cp', 'tresbps', 'chol', \n",
    "            'fbs', 'restecg', 'thalach', 'exang', \n",
    "            'oldpeak', 'slope', 'ca', 'thal', 'num']\n",
    "\n",
    "df = pd.read_csv(filename, \n",
    "                names = colnames,\n",
    "                na_values = '?')\n",
    "\n",
    "# Fill missing values with the mean values of the dataset\n",
    "df = df.where(~np.isnan(df), df.mean(), axis = 'columns')\n",
    "\n",
    "# Calculate the outputs where greater than zero equals True (sick), otherwise False (healthy)\n",
    "labels = (df['num'] > 0).values\n",
    "\n",
    "# Input data\n",
    "columns = ['age', 'sex', 'cp', 'tresbps', 'chol', \n",
    "            'fbs', 'restecg', 'thalach', 'exang', \n",
    "            'oldpeak', 'slope', 'ca', 'thal']\n",
    "\n",
    "data = df[columns].values\n",
    "\n",
    "# Scale the data\n",
    "min_max_scaler = preprocessing.MinMaxScaler()\n",
    "\n",
    "# new_data = k*data + b\n",
    "data_scaled = min_max_scaler.fit_transform(data)\n"
   ]
  },
  {
   "cell_type": "markdown",
   "metadata": {},
   "source": [
    "## 4. Creating & Compiling the network model"
   ]
  },
  {
   "cell_type": "code",
   "execution_count": 146,
   "metadata": {
    "collapsed": true
   },
   "outputs": [],
   "source": [
    "# Specifying the hyperparameters\n",
    "N = 300 # number of epochs\n",
    "B = 128 # batch size\n",
    "L = 1 # number of hidden layers\n",
    "H = 5 # number of hidden neurons per layer\n",
    "\n",
    "# Splitting the data into training and validation sets\n",
    "pT = 0.25 # percentage of test cases\n",
    "x_train, x_test, y_train, y_test = train_test_split(data_scaled, labels, \n",
    "                                                    random_state = 10, \n",
    "                                                    test_size = pT)\n",
    "\n",
    "model = Sequential()\n",
    "model.add(Dense(H, activation = 'relu', input_dim = 13))\n",
    "\n",
    "for x in range(0, L):\n",
    "    model.add(Dense(H, activation = 'relu'))\n",
    "    \n",
    "model.add(Dense(1, activation = 'sigmoid'))\n",
    "\n",
    "# Model compilation\n",
    "model.compile(loss = 'binary_crossentropy', \n",
    "             optimizer = 'rmsprop', \n",
    "             metrics = ['accuracy'])"
   ]
  },
  {
   "cell_type": "markdown",
   "metadata": {},
   "source": [
    "## 5. Model Training"
   ]
  },
  {
   "cell_type": "code",
   "execution_count": 147,
   "metadata": {},
   "outputs": [],
   "source": [
    "h = model.fit(x_train, y_train, \n",
    "              verbose = 0, \n",
    "              epochs = N, \n",
    "              batch_size = B,  \n",
    "              validation_data = (x_test, y_test))"
   ]
  },
  {
   "cell_type": "markdown",
   "metadata": {},
   "source": [
    "## 6. Evaluation"
   ]
  },
  {
   "cell_type": "code",
   "execution_count": 148,
   "metadata": {},
   "outputs": [
    {
     "name": "stdout",
     "output_type": "stream",
     "text": [
      "Test score: 0.355831108595\n",
      "Test accuracy: 0.868421055769\n"
     ]
    }
   ],
   "source": [
    "score = model.evaluate(x_test, y_test, verbose = 0)\n",
    "print('Test score: ' + str(score[0]))\n",
    "print('Test accuracy: ' + str(score[1]))"
   ]
  },
  {
   "cell_type": "markdown",
   "metadata": {},
   "source": [
    "## 7. Results"
   ]
  },
  {
   "cell_type": "code",
   "execution_count": 149,
   "metadata": {},
   "outputs": [
    {
     "data": {
      "image/png": "[encoded data removed]",
      "text/plain": [
       "<matplotlib.figure.Figure at 0x200b7d30>"
      ]
     },
     "metadata": {},
     "output_type": "display_data"
    },
    {
     "data": {
      "image/png": "[encoded data removed]",
      "text/plain": [
       "<matplotlib.figure.Figure at 0x20076240>"
      ]
     },
     "metadata": {},
     "output_type": "display_data"
    }
   ],
   "source": [
    "# Plot the results\n",
    "epochs = range(1, N + 1) # inclusive, exclusive (in python)\n",
    "acc = h.history['acc']\n",
    "val_acc = h.history['val_acc']\n",
    "loss = h.history['loss']\n",
    "val_loss = h.history['val_loss']\n",
    "\n",
    "# Accuracy plot\n",
    "plt.figure(figsize = (20, 5))\n",
    "plt.plot(epochs, acc, 'bo', label = 'Training')\n",
    "plt.plot(epochs, val_acc, 'r-', label = 'Validation')\n",
    "plt.xlabel('Epochs')\n",
    "plt.ylabel('Accuracy')\n",
    "plt.ylim([0, 1])\n",
    "plt.grid()\n",
    "plt.legend()\n",
    "plt.show()\n",
    "\n",
    "# Loss plot\n",
    "plt.figure(figsize = (20, 5))\n",
    "plt.plot(epochs, loss, 'bo', label = 'Training')\n",
    "plt.plot(epochs, val_loss, 'r-', label = 'Validation')\n",
    "plt.xlabel('Epochs')\n",
    "plt.ylabel('Loss')\n",
    "plt.ylim([0, 1])\n",
    "plt.grid()\n",
    "plt.legend()\n",
    "plt.show()"
   ]
  },
  {
   "cell_type": "markdown",
   "metadata": {
    "collapsed": true
   },
   "source": [
    "## 8. Conclusions"
   ]
  },
  {
   "cell_type": "markdown",
   "metadata": {},
   "source": [
    "After a series of tests using one, two or even several layers of varying widths between 2-10 neurons each, as well as batch sizes ranging all the way from 1 to 300 and epochs ranging from 100 to 500, it would appear that the best results come from using 1 hidden layer with 4 to 5 neurons and a batch size of several dozen samples. It seems that limiting the degrees of freedom through a smaller number of parameters in the network allows for many more epochs of meaningful parameter optimization without the risk of overfitting the training set. The search for an appropriate number of hidden neurons was assisted by the following formula:\n",
    "\n",
    "Nh = Ns / (α ∗ (Ni + No))\n",
    "\n",
    "Where   Nh corresponds to number of hidden neurons,\n",
    "        Ns corresponds to number of training samples,\n",
    "        α corresponds to a value between 2 and 10,\n",
    "        Ni is the input dimension and\n",
    "        No is the output dimension\n",
    "\n",
    "Using a train/test split of 75%/25% and the model specified above, the network reaches 84-85% predictive accuracy on the test set, taken as an average of 5 trials that contained no outliers in training. I have little doubt that more accurate results would be attainable with more training examples.\n",
    "\n",
    "Of particular note is the close parity between the training and test sets, in fact during testing there were numerous occasions where the test set achieved higher accuracy than the training set, a phenomenon I hadn't previously encountered when doing digit recognition. I suspect it is merely random occurrence due to the small dataset in question."
   ]
  }
 ],
 "metadata": {
  "kernelspec": {
   "display_name": "Python 3",
   "language": "python",
   "name": "python3"
  },
  "language_info": {
   "codemirror_mode": {
    "name": "ipython",
    "version": 3
   },
   "file_extension": ".py",
   "mimetype": "text/x-python",
   "name": "python",
   "nbconvert_exporter": "python",
   "pygments_lexer": "ipython3",
   "version": "3.6.3"
  }
 },
 "nbformat": 4,
 "nbformat_minor": 2
}
