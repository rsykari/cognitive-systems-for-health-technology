{
 "cells": [
  {
   "cell_type": "markdown",
   "metadata": {},
   "source": [
    "# Case 2 - Diabetic Retinopathy Classifier\n",
    "\n",
    "Riku Sykäri <br />\n",
    "Last Edited: 15.4.2018 <br />\n",
    "Cognitive Systems for Health Technology Applications <br />\n",
    "<a href=\"http://www.metropolia.fi\" target=\"_blank\">Helsinki Metropolia University of Applied Sciences</a>"
   ]
  },
  {
   "cell_type": "markdown",
   "metadata": {},
   "source": [
    "## 1. Objectives"
   ]
  },
  {
   "cell_type": "markdown",
   "metadata": {
    "collapsed": true
   },
   "source": [
    "The objective of this case exercise was to train an image recognition system capable of recognizing diabetic retinopathy through convolutional neural networks, using a dataset of approx. 2000 labeled examples of retinal images through supervised learning. The network in this case is a binary classifier, denoting retinal images as being either 'healthy' or 'unhealthy'.\n",
    "\n",
    "The background research for this case was jointly done by myself and Arseny Savin. It consisted of checking out competition winners for clues on how to build a network, as well as breaking the problem into small steps and reading recent studies related to convolutional neural networks to get answers for those steps. A compilation of useful links is listed under the final section of ideas on how to improve the network.\n",
    "\n",
    "The code implementation is a continuation of the template offered by our teachers at https://github.com/sakluk/cognitive-systems-for-health-technology/tree/Case-2. I merely tweaked the data preprocessing and network model."
   ]
  },
  {
   "cell_type": "markdown",
   "metadata": {},
   "source": [
    "## 2. Required libraries"
   ]
  },
  {
   "cell_type": "code",
   "execution_count": 196,
   "metadata": {},
   "outputs": [
    {
     "name": "stdout",
     "output_type": "stream",
     "text": [
      "numpy: 1.12.1\n",
      "pandas: 0.20.3\n",
      "keras: 2.1.3\n"
     ]
    }
   ],
   "source": [
    "# Import libraries\n",
    "import numpy as np\n",
    "import matplotlib.pyplot as plt\n",
    "import pandas as pd\n",
    "import time\n",
    "import keras\n",
    "import pickle\n",
    "import sklearn\n",
    "\n",
    "from keras import models\n",
    "from keras import layers\n",
    "from keras import optimizers\n",
    "from keras import regularizers\n",
    "from keras.preprocessing.image import ImageDataGenerator\n",
    "from keras.models import Sequential\n",
    "from keras.layers import Dense, Activation, Dropout\n",
    "from keras.applications import VGG16 \n",
    "\n",
    "from sklearn.metrics import roc_curve, roc_auc_score\n",
    "from sklearn.metrics import accuracy_score, precision_score, f1_score, confusion_matrix\n",
    "from sklearn.metrics import classification_report, recall_score\n",
    "from sklearn.metrics import precision_recall_curve\n",
    "from sklearn.metrics import average_precision_score\n",
    "\n",
    "%matplotlib inline\n",
    "\n",
    "# Versions used\n",
    "print('numpy:', np.__version__)\n",
    "print('pandas:', pd.__version__)\n",
    "print('keras:', keras.__version__)"
   ]
  },
  {
   "cell_type": "markdown",
   "metadata": {},
   "source": [
    "## 3. Data Generation"
   ]
  },
  {
   "cell_type": "markdown",
   "metadata": {},
   "source": [
    "The data used was the dataset given in the exercise (found in https://github.com/Nomikxyz/retinopathy-dataset).\n",
    "\n",
    "The accompanying 'Case_2_data_import_organization' file contains the breakdown of the dataset into train, validation and test sets (a 60/20/20 split). \n",
    "\n",
    "After the split the dataset was undersampled to bring the number of healthy examples down to the level of diseased ones. This was done so that the model wouldn't learn merely to call every picture it sees a healthy picture."
   ]
  },
  {
   "cell_type": "code",
   "execution_count": 197,
   "metadata": {
    "scrolled": false
   },
   "outputs": [
    {
     "name": "stdout",
     "output_type": "stream",
     "text": [
      "Found 714 images belonging to 2 classes.\n",
      "Found 238 images belonging to 2 classes.\n"
     ]
    }
   ],
   "source": [
    "# Code, model and history filenames\n",
    "my_code = 'CogSys_HealthTech_Case_2.ipynb'\n",
    "model_filename = 'case_2_model.h5'\n",
    "history_filename = 'case_2_history.p'\n",
    "\n",
    "train_dir = \"E:\\\\python_projects\\\\case_2_datasets\\\\train\"\n",
    "validation_dir = \"E:\\\\python_projects\\\\case_2_datasets\\\\validation\"\n",
    "test_dir = \"E:\\\\python_projects\\\\case_2_datasets\\\\test\"\n",
    "\n",
    "image_height = 200\n",
    "image_width = 200 \n",
    "\n",
    "def centering(x):\n",
    "    r = x[:, :, 0]\n",
    "    g = x[:, :, 1]\n",
    "    b = x[:, :, 2]\n",
    "    r = (r - np.mean(r))\n",
    "    g = (g - np.mean(g))\n",
    "    b = (b - np.mean(g))\n",
    "    x[:, :, 0] = r\n",
    "    x[:, :, 1] = g\n",
    "    x[:, :, 2] = b\n",
    "    return x\n",
    "\n",
    "# Create datagenerators\n",
    "train_datagen = ImageDataGenerator(\n",
    "    rescale = 1./255,\n",
    "    rotation_range = 360,\n",
    "    zoom_range = 0.2,\n",
    "    horizontal_flip = True,\n",
    "    preprocessing_function = centering)\n",
    "\n",
    "validation_datagen = ImageDataGenerator(\n",
    "    rescale = 1./255,\n",
    "    preprocessing_function = centering)\n",
    "\n",
    "test_datagen = ImageDataGenerator(\n",
    "    rescale = 1./255,\n",
    "    preprocessing_function = centering)\n",
    "\n",
    "\n",
    "# Generator for train dataset\n",
    "train_generator = train_datagen.flow_from_directory(\n",
    "    train_dir, \n",
    "    target_size = (image_height, image_width), \n",
    "    batch_size = batch_size, \n",
    "    class_mode = 'binary')\n",
    "\n",
    "# Generator for validation dataset\n",
    "validation_generator = validation_datagen.flow_from_directory(\n",
    "    validation_dir, \n",
    "    target_size = (image_height, image_width), \n",
    "    batch_size = batch_size, \n",
    "    class_mode = 'binary')"
   ]
  },
  {
   "cell_type": "markdown",
   "metadata": {},
   "source": [
    "## 4. Model Selection"
   ]
  },
  {
   "cell_type": "markdown",
   "metadata": {},
   "source": [
    "Starting out with a pre-trained VGG16, we add a simple linear classifier consisting of single Dense layer with 256 neurons, with weight regularization and dropout to combat overfitting, leading up to the output layer."
   ]
  },
  {
   "cell_type": "code",
   "execution_count": 198,
   "metadata": {},
   "outputs": [
    {
     "name": "stdout",
     "output_type": "stream",
     "text": [
      "_________________________________________________________________\n",
      "Layer (type)                 Output Shape              Param #   \n",
      "=================================================================\n",
      "vgg16 (Model)                (None, 6, 6, 512)         14714688  \n",
      "_________________________________________________________________\n",
      "flatten_26 (Flatten)         (None, 18432)             0         \n",
      "_________________________________________________________________\n",
      "dense_45 (Dense)             (None, 256)               4718848   \n",
      "_________________________________________________________________\n",
      "dropout_7 (Dropout)          (None, 256)               0         \n",
      "_________________________________________________________________\n",
      "dense_46 (Dense)             (None, 1)                 257       \n",
      "=================================================================\n",
      "Total params: 19,433,793\n",
      "Trainable params: 19,433,793\n",
      "Non-trainable params: 0\n",
      "_________________________________________________________________\n"
     ]
    }
   ],
   "source": [
    "conv_base = VGG16(\n",
    "    weights='imagenet', \n",
    "    include_top=False, \n",
    "    input_shape=(image_width, image_height, 3))\n",
    "\n",
    "model = models.Sequential()\n",
    "model.add(conv_base)\n",
    "model.add(layers.Flatten())\n",
    "model.add(layers.Dense(\n",
    "    256, \n",
    "    kernel_initializer='random_normal',\n",
    "    kernel_regularizer=regularizers.l2(0.001), \n",
    "    activation='relu'))\n",
    "model.add(layers.Dropout(0.5))\n",
    "model.add(layers.Dense(1, activation='sigmoid'))\n",
    "\n",
    "model.summary()\n",
    "conv_base.trainable = False"
   ]
  },
  {
   "cell_type": "markdown",
   "metadata": {},
   "source": [
    "## 5. Model Compilation & Training"
   ]
  },
  {
   "cell_type": "markdown",
   "metadata": {},
   "source": [
    "I decided to try out the Adadelta optimizer (with default settings) as I found it converged rather quickly on an answer, cutting down training time."
   ]
  },
  {
   "cell_type": "code",
   "execution_count": 199,
   "metadata": {},
   "outputs": [
    {
     "name": "stdout",
     "output_type": "stream",
     "text": [
      " \n",
      "Total elapsed time for training: 95.855 minutes\n",
      " \n"
     ]
    }
   ],
   "source": [
    "# Training parameters\n",
    "batch_size = 14\n",
    "epochs = 20\n",
    "steps_per_epoch = 51 \n",
    "validation_steps = 5\n",
    "\n",
    "oz = keras.optimizers.Adadelta(lr=1.0, rho=0.95, epsilon=None, decay=0.0)\n",
    "\n",
    "model.compile(\n",
    "    loss='binary_crossentropy',\n",
    "    optimizer=oz,\n",
    "    metrics=['acc'])\n",
    "\n",
    "t1 = time.time()\n",
    "h = model.fit_generator(\n",
    "    train_generator,\n",
    "    steps_per_epoch = steps_per_epoch,\n",
    "    verbose = 0,\n",
    "    epochs = epochs,\n",
    "    validation_data = validation_generator,\n",
    "    validation_steps = validation_steps)\n",
    "t2 = time.time()\n",
    "\n",
    "# Storing the elapsed time into history\n",
    "h.history.update({'time_elapsed': t2 - t1})\n",
    "print(' ')\n",
    "print('Total elapsed time for training: {:.3f} minutes'.format((t2-t1)/60))\n",
    "print(' ')"
   ]
  },
  {
   "cell_type": "code",
   "execution_count": 200,
   "metadata": {},
   "outputs": [],
   "source": [
    "# Saving the model\n",
    "fname = os.path.join('E:\\\\python_projects\\\\', 'case_2_results', model_filename)\n",
    "model.save(fname)\n",
    " \n",
    "# Saving the history\n",
    "fname = os.path.join('E:\\\\python_projects\\\\', 'case_2_results', history_filename)\n",
    "pickle.dump(h.history, open(fname, 'wb'))"
   ]
  },
  {
   "cell_type": "markdown",
   "metadata": {},
   "source": [
    "## 6. Evaluation"
   ]
  },
  {
   "cell_type": "code",
   "execution_count": 201,
   "metadata": {},
   "outputs": [
    {
     "data": {
      "image/png": "[encoded data removed]",
      "text/plain": [
       "<matplotlib.figure.Figure at 0xcdb31f28>"
      ]
     },
     "metadata": {},
     "output_type": "display_data"
    },
    {
     "data": {
      "image/png": "[encoded data removed]",
      "text/plain": [
       "<matplotlib.figure.Figure at 0xcd8176a0>"
      ]
     },
     "metadata": {},
     "output_type": "display_data"
    }
   ],
   "source": [
    "acc = h.history['acc']\n",
    "val_acc = h.history['val_acc']\n",
    "loss = h.history['loss']\n",
    "val_loss = h.history['val_loss']\n",
    "\n",
    "epochs = range(len(acc))\n",
    "\n",
    "plt.figure()\n",
    "\n",
    "plt.plot(epochs, acc, 'bo', label='Training acc')\n",
    "plt.plot(epochs, val_acc, 'b', label='Validation acc')\n",
    "plt.title('Training and validation accuracy')\n",
    "plt.ylim([0, 1])\n",
    "plt.xlabel('Epochs')\n",
    "plt.grid()\n",
    "plt.legend()\n",
    "\n",
    "plt.figure()\n",
    "\n",
    "plt.plot(epochs, loss, 'bo', label='Training loss')\n",
    "plt.plot(epochs, val_loss, 'b', label='Validation loss')\n",
    "plt.title('Training and validation loss')\n",
    "plt.ylim([0, 25])\n",
    "plt.xlabel('Epochs')\n",
    "plt.grid()\n",
    "plt.legend()\n",
    "\n",
    "plt.show()"
   ]
  },
  {
   "cell_type": "markdown",
   "metadata": {},
   "source": [
    "## 7. Results"
   ]
  },
  {
   "cell_type": "code",
   "execution_count": 202,
   "metadata": {},
   "outputs": [
    {
     "name": "stdout",
     "output_type": "stream",
     "text": [
      "Found 238 images belonging to 2 classes.\n"
     ]
    },
    {
     "data": {
      "text/plain": [
       "[0.90967757928939097, 0.6666666737624577]"
      ]
     },
     "execution_count": 202,
     "metadata": {},
     "output_type": "execute_result"
    }
   ],
   "source": [
    "# Testing the model\n",
    "\n",
    "# Generator for test dataset\n",
    "test_generator = test_datagen.flow_from_directory(\n",
    "    test_dir, \n",
    "    target_size = (image_height, image_width), \n",
    "    batch_size = batch_size, \n",
    "    class_mode = 'binary')\n",
    "\n",
    "r = model.evaluate_generator(test_generator, steps = 21)\n",
    "\n",
    "# Loss and accuracy\n",
    "r"
   ]
  },
  {
   "cell_type": "code",
   "execution_count": 204,
   "metadata": {},
   "outputs": [],
   "source": [
    "# Predicting the score\n",
    "\n",
    "# number of test examples\n",
    "sample_count = 238\n",
    "y_true = np.zeros(238)\n",
    "y_score = np.zeros(238)\n",
    "\n",
    "i = 0\n",
    "for inputs_batch, labels_batch in test_generator:\n",
    "        predicts_batch = model.predict(inputs_batch)\n",
    "        L = labels_batch.shape[0]\n",
    "        index = range(i, i + L)\n",
    "        y_true[index] = labels_batch.ravel()\n",
    "        y_score[index] = predicts_batch.ravel()\n",
    "        i = i + L\n",
    "        if i >= sample_count:\n",
    "            break"
   ]
  },
  {
   "cell_type": "code",
   "execution_count": 205,
   "metadata": {},
   "outputs": [
    {
     "data": {
      "image/png": "[encoded data removed]",
      "text/plain": [
       "<matplotlib.figure.Figure at 0xd7bbc4a8>"
      ]
     },
     "metadata": {},
     "output_type": "display_data"
    },
    {
     "data": {
      "image/png": "[encoded data removed]",
      "text/plain": [
       "<matplotlib.figure.Figure at 0xcdfc5eb8>"
      ]
     },
     "metadata": {},
     "output_type": "display_data"
    }
   ],
   "source": [
    "# Calculating ROC and AUC\n",
    "\n",
    "fpr, tpr, thresholds = roc_curve(y_true, y_score)\n",
    "auc = roc_auc_score(y_true, y_score)\n",
    "\n",
    "plt.figure()\n",
    "plt.plot(fpr, tpr)\n",
    "plt.plot([0, 1], [0, 1], '--')\n",
    "plt.grid()\n",
    "plt.xlabel('False Positive Rate')\n",
    "plt.ylabel('True Positive Rate')\n",
    "plt.title('ROC curve   AUC = {:.3f}'.format(auc))\n",
    "plt.show()\n",
    "\n",
    "plt.figure()\n",
    "plt.plot(thresholds, 1-fpr, label = 'specificity')\n",
    "plt.plot(thresholds, tpr, label = 'sensitivity')\n",
    "plt.legend()\n",
    "plt.grid()\n",
    "plt.xlim(0, 1)\n",
    "plt.xlabel('Threshold value')\n",
    "plt.show()"
   ]
  },
  {
   "cell_type": "code",
   "execution_count": 206,
   "metadata": {},
   "outputs": [
    {
     "name": "stdout",
     "output_type": "stream",
     "text": [
      "Accuracy:  0.647\n",
      "Precision: 0.661\n",
      "Recall:    0.628\n",
      "F1:        0.644\n"
     ]
    }
   ],
   "source": [
    "# Selecting the threshold to optimize for both specificity and sensitivity equally\n",
    "th = 0.51\n",
    "\n",
    "# Metrics\n",
    "acc = accuracy_score(y_true, y_score > th)\n",
    "prec = precision_score(y_true, y_score > th)\n",
    "f1 = f1_score(y_true, y_score > th)\n",
    "recall = recall_score(y_true, y_score > th)\n",
    "\n",
    "print('Accuracy:  {:.3f}'.format(acc))\n",
    "print('Precision: {:.3f}'.format(prec))\n",
    "print('Recall:    {:.3f}'.format(recall))\n",
    "print('F1:        {:.3f}'.format(f1))"
   ]
  },
  {
   "cell_type": "code",
   "execution_count": 207,
   "metadata": {},
   "outputs": [
    {
     "name": "stdout",
     "output_type": "stream",
     "text": [
      "Classification report\n",
      "             precision    recall  f1-score   support\n",
      "\n",
      "    Disease       0.58      0.93      0.71       121\n",
      "    Healthy       0.81      0.29      0.43       117\n",
      "\n",
      "avg / total       0.69      0.62      0.57       238\n",
      "\n"
     ]
    }
   ],
   "source": [
    "print('Classification report')\n",
    "print(classification_report(\n",
    "    y_true, \n",
    "    y_score > threshold, \n",
    "    labels = [1.0, 0.0], \n",
    "    target_names = ['Disease', 'Healthy']))"
   ]
  },
  {
   "cell_type": "code",
   "execution_count": 208,
   "metadata": {},
   "outputs": [
    {
     "name": "stdout",
     "output_type": "stream",
     "text": [
      "                      Confusion matrix\n",
      "                       True condition\n",
      "                      Positive Negative      Sum\n",
      "Predicted | Positive        76       39      115\n",
      "condition | Negative        45       78      123\n",
      "                 Sum       121      117      238\n",
      " \n",
      "Sensitivity: 0.628\n",
      "Specificity: 0.667\n"
     ]
    }
   ],
   "source": [
    "tn, fp, fn, tp = confusion_matrix(y_true, y_score > th).ravel()\n",
    "\n",
    "print('                      Confusion matrix')\n",
    "print('                       True condition')\n",
    "print('                      Positive Negative      Sum')\n",
    "print('Predicted | Positive  {:8} {:8} {:8}'.format(tp, fp, tp + fp))\n",
    "print('condition | Negative  {:8} {:8} {:8}'.format(fn, tn, fn + tn))\n",
    "print('                 Sum  {:8} {:8} {:8}'.format(tp + fn, fp + tn, tp + fp + fn + tn))\n",
    "print(' ')\n",
    "print('Sensitivity: {:.3f}'.format(tp/(tp+fn)))\n",
    "print('Specificity: {:.3f}'.format(tn/(tn+fp)))"
   ]
  },
  {
   "cell_type": "markdown",
   "metadata": {},
   "source": [
    "## 8. Conclusions"
   ]
  },
  {
   "cell_type": "markdown",
   "metadata": {
    "collapsed": true
   },
   "source": [
    "Before, when I hadn't yet altered the ratio of healthy/unhealthy training examples, the model consistently converged towards the same practice of just labeling everything healthy and getting precision score of 76% with zero sensitivity, no matter if I tweaked the image resolution or data-augmentation and if I added weight regularization and dropout.\n",
    "\n",
    "This demonstrates the importance of under/oversampling at least in image recognition tasks, as the problem in this case wasn't overfitting where training accuracy keeps increasing as validation score plummets.\n",
    "\n",
    "While oversampling is generally preferred to undersampling, as that way you don't end up losing part of your data, I found this solution much easier to implement. Originally I only undersampled the training set but then came to the conclusion that I should do it for training and test sets as well to get a closer answer on the evaluation and results.\n",
    "\n",
    "What surprised me was how increasing the image resolution to 200x200 actually yielded poorer results than keeping it the same as 150x150. With smaller images I managed to reach over 70% accuracy at least, in the same number of epochs as now. Not a good showing overall.\n",
    "\n",
    "After having taken a more thorough look at the retinal pictures I think the reason for the middling score is both a function of the small samplesize and the noise within the samples, where there are drastic changes in brightness, color balance, retina size as well as relflections and halo effects from what I can assume were poor lighting conditions at the time a picture was taken.\n",
    "\n",
    "It leaves me wondering if it was better to simply go through the dataset manually and delete certain drastic outliers from the samples, although that would surely impose it's own selection effects and biases."
   ]
  },
  {
   "cell_type": "markdown",
   "metadata": {},
   "source": [
    "## 9. Ideas for improving the network"
   ]
  },
  {
   "cell_type": "markdown",
   "metadata": {},
   "source": [
    "<b> Convolutional Neural Networks for Visual Recognition course materials: </b><br />\n",
    "https://cs231n.github.io/neural-networks-1/ <br />\n",
    "https://cs231n.github.io/neural-networks-2/ <br />\n",
    "https://cs231n.github.io/neural-networks-3/ <br />\n",
    "\n",
    "<b> Data Preprocessing </b><br />\n",
    "https://arxiv.org/pdf/1710.05381.pdf <br />\n",
    "http://jeffreydf.github.io/diabetic-retinopathy-detection/ <br />\n",
    "https://kaggle2.blob.core.windows.net/forum-message-attachments/88655/2795/competitionreport.pdf <br />\n",
    "\n",
    "<b> Data Augmentation </b><br />\n",
    "http://www.cs.toronto.edu/~fritz/absps/imagenet.pdf <br />\n",
    "\n",
    "<b> Batch Normalization </b><br />\n",
    "https://arxiv.org/pdf/1502.03167.pdf <br />\n",
    "\n",
    "<b> Global Average Pooling </b><br />\n",
    "https://alexisbcook.github.io/2017/global-average-pooling-layers-for-object-localization/ <br />\n",
    "https://arxiv.org/pdf/1312.4400.pdf <br />\n",
    "\n",
    "<b> Regularization </b><br />\n",
    "http://www.cs.toronto.edu/~rsalakhu/papers/srivastava14a.pdf<br />\n",
    "\n",
    "<b> Optimizers </b><br />\n",
    "https://arxiv.org/pdf/1412.6980.pdf <br />"
   ]
  }
 ],
 "metadata": {
  "kernelspec": {
   "display_name": "Python 3",
   "language": "python",
   "name": "python3"
  },
  "language_info": {
   "codemirror_mode": {
    "name": "ipython",
    "version": 3
   },
   "file_extension": ".py",
   "mimetype": "text/x-python",
   "name": "python",
   "nbconvert_exporter": "python",
   "pygments_lexer": "ipython3",
   "version": "3.6.3"
  }
 },
 "nbformat": 4,
 "nbformat_minor": 2
}
